{
 "cells": [
  {
   "cell_type": "code",
   "execution_count": 13,
   "id": "55f7a0ee",
   "metadata": {},
   "outputs": [
    {
     "name": "stdout",
     "output_type": "stream",
     "text": [
      "Collecting sqlalchemy\n",
      "  Downloading sqlalchemy-2.0.41-cp312-cp312-win_amd64.whl.metadata (9.8 kB)\n",
      "Collecting pymysql\n",
      "  Downloading PyMySQL-1.1.1-py3-none-any.whl.metadata (4.4 kB)\n",
      "Requirement already satisfied: pandas in c:\\laragon\\bin\\python\\python-3.12\\lib\\site-packages (2.3.1)\n",
      "Collecting greenlet>=1 (from sqlalchemy)\n",
      "  Downloading greenlet-3.2.3-cp312-cp312-win_amd64.whl.metadata (4.2 kB)\n",
      "Collecting typing-extensions>=4.6.0 (from sqlalchemy)\n",
      "  Using cached typing_extensions-4.14.1-py3-none-any.whl.metadata (3.0 kB)\n",
      "Requirement already satisfied: numpy>=1.26.0 in c:\\laragon\\bin\\python\\python-3.12\\lib\\site-packages (from pandas) (2.3.1)\n",
      "Requirement already satisfied: python-dateutil>=2.8.2 in c:\\users\\lenovo\\appdata\\roaming\\python\\python312\\site-packages (from pandas) (2.9.0.post0)\n",
      "Requirement already satisfied: pytz>=2020.1 in c:\\laragon\\bin\\python\\python-3.12\\lib\\site-packages (from pandas) (2025.2)\n",
      "Requirement already satisfied: tzdata>=2022.7 in c:\\laragon\\bin\\python\\python-3.12\\lib\\site-packages (from pandas) (2025.2)\n",
      "Requirement already satisfied: six>=1.5 in c:\\users\\lenovo\\appdata\\roaming\\python\\python312\\site-packages (from python-dateutil>=2.8.2->pandas) (1.17.0)\n",
      "Downloading sqlalchemy-2.0.41-cp312-cp312-win_amd64.whl (2.1 MB)\n",
      "   ---------------------------------------- 0.0/2.1 MB ? eta -:--:--\n",
      "   ---------------------------------------- 0.0/2.1 MB ? eta -:--:--\n",
      "   -- ------------------------------------- 0.1/2.1 MB 1.4 MB/s eta 0:00:02\n",
      "   ---------- ----------------------------- 0.5/2.1 MB 4.2 MB/s eta 0:00:01\n",
      "   ------------- -------------------------- 0.7/2.1 MB 5.1 MB/s eta 0:00:01\n",
      "   ------------------------ --------------- 1.3/2.1 MB 5.9 MB/s eta 0:00:01\n",
      "   --------------------------------- ------ 1.8/2.1 MB 6.6 MB/s eta 0:00:01\n",
      "   ---------------------------------------  2.1/2.1 MB 7.1 MB/s eta 0:00:01\n",
      "   ---------------------------------------- 2.1/2.1 MB 6.7 MB/s eta 0:00:00\n",
      "Downloading PyMySQL-1.1.1-py3-none-any.whl (44 kB)\n",
      "   ---------------------------------------- 0.0/45.0 kB ? eta -:--:--\n",
      "   ---------------------------------------- 45.0/45.0 kB 2.3 MB/s eta 0:00:00\n",
      "Downloading greenlet-3.2.3-cp312-cp312-win_amd64.whl (297 kB)\n",
      "   ---------------------------------------- 0.0/297.8 kB ? eta -:--:--\n",
      "   ---------------------------------------- 297.8/297.8 kB 9.0 MB/s eta 0:00:00\n",
      "Using cached typing_extensions-4.14.1-py3-none-any.whl (43 kB)\n",
      "Installing collected packages: typing-extensions, pymysql, greenlet, sqlalchemy\n",
      "Successfully installed greenlet-3.2.3 pymysql-1.1.1 sqlalchemy-2.0.41 typing-extensions-4.14.1\n",
      "Note: you may need to restart the kernel to use updated packages.\n"
     ]
    },
    {
     "name": "stderr",
     "output_type": "stream",
     "text": [
      "\n",
      "[notice] A new release of pip is available: 24.0 -> 25.1.1\n",
      "[notice] To update, run: python.exe -m pip install --upgrade pip\n"
     ]
    }
   ],
   "source": [
    "%pip install sqlalchemy pymysql pandas\n"
   ]
  },
  {
   "cell_type": "code",
   "execution_count": 14,
   "id": "bacccff9",
   "metadata": {},
   "outputs": [],
   "source": [
    "import pandas as pd\n",
    "from sqlalchemy import create_engine"
   ]
  },
  {
   "cell_type": "code",
   "execution_count": 15,
   "id": "94b808e5",
   "metadata": {},
   "outputs": [],
   "source": [
    "# 1. Koneksi ke database\n",
    "engine = create_engine(\"mysql+pymysql://root:@localhost:3306/wilayah\")"
   ]
  },
  {
   "cell_type": "code",
   "execution_count": null,
   "id": "c77f0bfd",
   "metadata": {},
   "outputs": [],
   "source": [
    "# 2. Query data dari database\n",
    "query = \"SELECT kode, nama FROM wilayah\"\n",
    "df = pd.read_sql_query(query, engine)\n"
   ]
  },
  {
   "cell_type": "code",
   "execution_count": 17,
   "id": "dc345121",
   "metadata": {},
   "outputs": [
    {
     "name": "stdout",
     "output_type": "stream",
     "text": [
      "            kode                   nama\n",
      "0  74.01.01.1001            19 Nopember\n",
      "1       13.05.04  2 x 11 Anam Lingkuang\n",
      "2       13.05.15      2 x 11 Kayu Tanam\n",
      "3  12.71.15.1001                  A u r\n",
      "4  63.05.01.2006           A. Yani Pura\n"
     ]
    }
   ],
   "source": [
    "# Tampilkan\n",
    "print(df.head())"
   ]
  },
  {
   "cell_type": "code",
   "execution_count": 24,
   "id": "3408617b",
   "metadata": {},
   "outputs": [
    {
     "name": "stdout",
     "output_type": "stream",
     "text": [
      "Data untuk prefix 93 disimpan ke kecamatan_93.csv. Jumlah baris: 4\n",
      "Data untuk prefix 94 disimpan ke kecamatan_94.csv. Jumlah baris: 8\n",
      "Data untuk prefix 95 disimpan ke kecamatan_95.csv. Jumlah baris: 8\n",
      "Data untuk prefix 96 disimpan ke kecamatan_96.csv. Jumlah baris: 6\n"
     ]
    }
   ],
   "source": [
    "# Loop prefix dari 93 sampai 96\n",
    "for i in range(93, 97):  # 97 karena range atas eksklusif\n",
    "    prefix = f\"{i}.%\"\n",
    "    query = \"SELECT kode, nama FROM wilayah WHERE kode LIKE %s AND CHAR_LENGTH(kode) = 5\"\n",
    "    df = pd.read_sql_query(query, engine, params=(prefix,))\n",
    "\n",
    "    # Hapus karakter titik pada kolom 'kode'\n",
    "    df['kode'] = df['kode'].str.replace('.', '', regex=False)\n",
    "\n",
    "    # Simpan ke CSV\n",
    "    filename = f\"kecamatan_{i}.csv\"\n",
    "    df.to_csv(filename, index=False, encoding='utf-8')\n",
    "\n",
    "    # Tampilkan ringkasan\n",
    "    print(f\"Data untuk prefix {i} disimpan ke {filename}. Jumlah baris: {len(df)}\")"
   ]
  },
  {
   "cell_type": "code",
   "execution_count": 27,
   "id": "1a49c759",
   "metadata": {},
   "outputs": [
    {
     "name": "stdout",
     "output_type": "stream",
     "text": [
      "Data untuk prefix 93 disimpan ke kecamatan_93.csv. Jumlah baris: 82\n",
      "Data untuk prefix 94 disimpan ke kecamatan_94.csv. Jumlah baris: 131\n",
      "Data untuk prefix 95 disimpan ke kecamatan_95.csv. Jumlah baris: 252\n",
      "Data untuk prefix 96 disimpan ke kecamatan_96.csv. Jumlah baris: 132\n"
     ]
    }
   ],
   "source": [
    "# Loop prefix dari 93 sampai 96\n",
    "for i in range(93, 97):  # 97 karena range atas eksklusif\n",
    "    prefix = f\"{i}.%\"\n",
    "    query = \"SELECT kode, nama FROM wilayah WHERE kode LIKE %s AND CHAR_LENGTH(kode) = 8\"\n",
    "    df = pd.read_sql_query(query, engine, params=(prefix,))\n",
    "\n",
    "    # Hapus karakter titik pada kolom 'kode'\n",
    "    df['kode'] = df['kode'].str.replace('.', '', regex=False)\n",
    "\n",
    "    # Simpan ke CSV\n",
    "    filename = f\"kecamatan_{i}.csv\"\n",
    "    df.to_csv(filename, index=False, encoding='utf-8')\n",
    "\n",
    "    # Tampilkan ringkasan\n",
    "    print(f\"Data untuk prefix {i} disimpan ke {filename}. Jumlah baris: {len(df)}\")"
   ]
  },
  {
   "cell_type": "code",
   "execution_count": 28,
   "id": "ac25071f",
   "metadata": {},
   "outputs": [
    {
     "name": "stdout",
     "output_type": "stream",
     "text": [
      "Data untuk prefix 93 disimpan ke desa_93.csv. Jumlah baris: 690\n",
      "Data untuk prefix 94 disimpan ke desa_94.csv. Jumlah baris: 1208\n",
      "Data untuk prefix 95 disimpan ke desa_95.csv. Jumlah baris: 2627\n",
      "Data untuk prefix 96 disimpan ke desa_96.csv. Jumlah baris: 1013\n"
     ]
    }
   ],
   "source": [
    "# Loop prefix dari 93 sampai 96\n",
    "for i in range(93, 97):  # 97 karena range atas eksklusif\n",
    "    prefix = f\"{i}.%\"\n",
    "    query = \"SELECT kode, nama FROM wilayah WHERE kode LIKE %s AND CHAR_LENGTH(kode) > 8\"\n",
    "    df = pd.read_sql_query(query, engine, params=(prefix,))\n",
    "\n",
    "    # Hapus karakter titik pada kolom 'kode'\n",
    "    df['kode'] = df['kode'].str.replace('.', '', regex=False)\n",
    "\n",
    "    # Simpan ke CSV\n",
    "    filename = f\"desa_{i}.csv\"\n",
    "    df.to_csv(filename, index=False, encoding='utf-8')\n",
    "\n",
    "    # Tampilkan ringkasan\n",
    "    print(f\"Data untuk prefix {i} disimpan ke {filename}. Jumlah baris: {len(df)}\")"
   ]
  }
 ],
 "metadata": {
  "kernelspec": {
   "display_name": "Python 3",
   "language": "python",
   "name": "python3"
  },
  "language_info": {
   "codemirror_mode": {
    "name": "ipython",
    "version": 3
   },
   "file_extension": ".py",
   "mimetype": "text/x-python",
   "name": "python",
   "nbconvert_exporter": "python",
   "pygments_lexer": "ipython3",
   "version": "3.12.3"
  }
 },
 "nbformat": 4,
 "nbformat_minor": 5
}
